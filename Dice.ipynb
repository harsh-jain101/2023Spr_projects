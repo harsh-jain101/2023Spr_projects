{
 "cells": [
  {
   "cell_type": "code",
   "execution_count": 1,
   "id": "81ffc0df",
   "metadata": {
    "pycharm": {
     "name": "#%%\n"
    }
   },
   "outputs": [],
   "source": [
    "import numpy as np\n",
    "import pandas as pd\n",
    "import matplotlib.pyplot as plt\n",
    "import math\n",
    "import json\n",
    "import re\n",
    "import seaborn as sns\n",
    "import folium\n",
    "from analysis import *\n",
    "from cleaning import *"
   ]
  },
  {
   "cell_type": "markdown",
   "id": "c99fbecf",
   "metadata": {
    "pycharm": {
     "name": "#%% md\n"
    }
   },
   "source": [
    "# Importing data"
   ]
  },
  {
   "cell_type": "code",
   "execution_count": 2,
   "id": "83f5f752",
   "metadata": {
    "pycharm": {
     "name": "#%%\n"
    }
   },
   "outputs": [],
   "source": [
    "file_path = './data/dice_jobs_list.csv'"
   ]
  },
  {
   "cell_type": "code",
   "execution_count": 3,
   "id": "4c59e0d4",
   "metadata": {
    "pycharm": {
     "name": "#%%\n"
    }
   },
   "outputs": [],
   "source": [
    "dice = pd.read_csv(file_path)"
   ]
  },
  {
   "cell_type": "code",
   "execution_count": 4,
   "id": "7bcaee6e",
   "metadata": {
    "pycharm": {
     "name": "#%%\n"
    }
   },
   "outputs": [
    {
     "data": {
      "text/html": [
       "<div>\n",
       "<style scoped>\n",
       "    .dataframe tbody tr th:only-of-type {\n",
       "        vertical-align: middle;\n",
       "    }\n",
       "\n",
       "    .dataframe tbody tr th {\n",
       "        vertical-align: top;\n",
       "    }\n",
       "\n",
       "    .dataframe thead th {\n",
       "        text-align: right;\n",
       "    }\n",
       "</style>\n",
       "<table border=\"1\" class=\"dataframe\">\n",
       "  <thead>\n",
       "    <tr style=\"text-align: right;\">\n",
       "      <th></th>\n",
       "      <th>salary</th>\n",
       "      <th>crawled_at</th>\n",
       "      <th>description</th>\n",
       "      <th>title</th>\n",
       "      <th>url</th>\n",
       "      <th>country</th>\n",
       "      <th>industry</th>\n",
       "      <th>job_type</th>\n",
       "      <th>longitude</th>\n",
       "      <th>currency</th>\n",
       "      <th>education_requirements</th>\n",
       "      <th>postal_code</th>\n",
       "      <th>location</th>\n",
       "      <th>raw_description</th>\n",
       "      <th>skills</th>\n",
       "      <th>latitude</th>\n",
       "      <th>_id</th>\n",
       "      <th>company</th>\n",
       "      <th>posted_at</th>\n",
       "      <th>source</th>\n",
       "    </tr>\n",
       "  </thead>\n",
       "  <tbody>\n",
       "    <tr>\n",
       "      <th>0</th>\n",
       "      <td>Depends on Experience</td>\n",
       "      <td>04/16/2021, 19:51:28</td>\n",
       "      <td>Azure AD EngineerLocation: Charlotte, NCDurati...</td>\n",
       "      <td>Azure AD Engineer</td>\n",
       "      <td>https://www.dice.com/jobs/detail/Azure-AD-Engi...</td>\n",
       "      <td>US</td>\n",
       "      <td>IT Software</td>\n",
       "      <td>Contract W2, Contract Independent</td>\n",
       "      <td>-80.843124</td>\n",
       "      <td>USD</td>\n",
       "      <td>IT Diploma/Degree/Certification</td>\n",
       "      <td>28201</td>\n",
       "      <td>Charlotte, NC</td>\n",
       "      <td>&lt;div class=\"highlight-black\" id=\"jobdescSec\"&gt;\\...</td>\n",
       "      <td>Azure AD</td>\n",
       "      <td>35.227085</td>\n",
       "      <td>6ea0725a-554f-5db9-8fa3-81b8eea3d9c6</td>\n",
       "      <td>Nutech Systems, Inc.</td>\n",
       "      <td>2021-04-13T22:31:54Z</td>\n",
       "      <td>https://www.dice.com</td>\n",
       "    </tr>\n",
       "    <tr>\n",
       "      <th>1</th>\n",
       "      <td>Depends on Experience</td>\n",
       "      <td>04/16/2021, 19:51:31</td>\n",
       "      <td>We are looking for a Ad Operations Associate f...</td>\n",
       "      <td>Ad Operations Associate</td>\n",
       "      <td>https://www.dice.com/jobs/detail/Ad-Operations...</td>\n",
       "      <td>NaN</td>\n",
       "      <td>IT Software</td>\n",
       "      <td>Contract W2</td>\n",
       "      <td>0.000000</td>\n",
       "      <td>USD</td>\n",
       "      <td>IT Diploma/Degree/Certification</td>\n",
       "      <td>NaN</td>\n",
       "      <td>NaN</td>\n",
       "      <td>&lt;div class=\"highlight-black\" id=\"jobdescSec\"&gt;\\...</td>\n",
       "      <td>Account management, Advertising, Content marke...</td>\n",
       "      <td>0.000000</td>\n",
       "      <td>68afe519-ecca-5fe8-a553-2b4511d367e2</td>\n",
       "      <td>Software Resources, Inc.</td>\n",
       "      <td>2021-04-12T16:31:29Z</td>\n",
       "      <td>https://www.dice.com</td>\n",
       "    </tr>\n",
       "    <tr>\n",
       "      <th>2</th>\n",
       "      <td>Depends on Experience</td>\n",
       "      <td>04/16/2021, 19:51:34</td>\n",
       "      <td>Job Title: Ad Operations Onsite AnalystLocatio...</td>\n",
       "      <td>Ad Operations Analyst</td>\n",
       "      <td>https://www.dice.com/jobs/detail/Ad-Operations...</td>\n",
       "      <td>US</td>\n",
       "      <td>IT Software</td>\n",
       "      <td>Contract W2, Contract Independent</td>\n",
       "      <td>-122.411090</td>\n",
       "      <td>USD</td>\n",
       "      <td>IT Diploma/Degree/Certification</td>\n",
       "      <td>94066</td>\n",
       "      <td>San Bruno, CA</td>\n",
       "      <td>&lt;div class=\"highlight-black\" id=\"jobdescSec\"&gt;\\...</td>\n",
       "      <td>Campaign management, Media buying, Analytics, ...</td>\n",
       "      <td>37.630490</td>\n",
       "      <td>9221c243-e03a-5c7c-96f6-37d8edcd39a6</td>\n",
       "      <td>Tranzeal, Inc.</td>\n",
       "      <td>2021-04-14T20:15:06Z</td>\n",
       "      <td>https://www.dice.com</td>\n",
       "    </tr>\n",
       "    <tr>\n",
       "      <th>3</th>\n",
       "      <td>Market</td>\n",
       "      <td>04/16/2021, 19:51:37</td>\n",
       "      <td>Job Description: This role is for a senior Pro...</td>\n",
       "      <td>Project Manager - Ad Tech, Digital Business, A...</td>\n",
       "      <td>https://www.dice.com/jobs/detail/Project-Manag...</td>\n",
       "      <td>US</td>\n",
       "      <td>IT Software</td>\n",
       "      <td>Contract W2</td>\n",
       "      <td>-122.333220</td>\n",
       "      <td>USD</td>\n",
       "      <td>IT Diploma/Degree/Certification</td>\n",
       "      <td>98101</td>\n",
       "      <td>Seattle, WA</td>\n",
       "      <td>&lt;div class=\"highlight-black\" id=\"jobdescSec\"&gt;\\...</td>\n",
       "      <td>Ad Tech, Digital Business, Agile, Sprints, Sma...</td>\n",
       "      <td>47.611330</td>\n",
       "      <td>493b1cc2-3c1e-5cd4-bd3e-d4a6403b2501</td>\n",
       "      <td>Software Management Consultants, Inc.</td>\n",
       "      <td>2021-04-01T01:05:06Z</td>\n",
       "      <td>https://www.dice.com</td>\n",
       "    </tr>\n",
       "    <tr>\n",
       "      <th>4</th>\n",
       "      <td>Market</td>\n",
       "      <td>04/16/2021, 19:51:39</td>\n",
       "      <td>Job Description: IT Service Desk Support Analy...</td>\n",
       "      <td>Technical Support - Salesforce, TCP/IP, DNS, W...</td>\n",
       "      <td>https://www.dice.com/jobs/detail/Technical-Sup...</td>\n",
       "      <td>US</td>\n",
       "      <td>IT Software</td>\n",
       "      <td>Contract W2</td>\n",
       "      <td>-82.342995</td>\n",
       "      <td>USD</td>\n",
       "      <td>IT Diploma/Degree/Certification</td>\n",
       "      <td>33601</td>\n",
       "      <td>Tampa, FL</td>\n",
       "      <td>&lt;div class=\"highlight-black\" id=\"jobdescSec\"&gt;\\...</td>\n",
       "      <td>Salesforce, TCP/IP, DNS, WINS, AD, ServiceNow</td>\n",
       "      <td>27.981146</td>\n",
       "      <td>34d5e29c-0645-5567-b4c1-2820abcc316f</td>\n",
       "      <td>Software Management Consultants, Inc.</td>\n",
       "      <td>2021-04-10T01:05:17Z</td>\n",
       "      <td>https://www.dice.com</td>\n",
       "    </tr>\n",
       "  </tbody>\n",
       "</table>\n",
       "</div>"
      ],
      "text/plain": [
       "                  salary            crawled_at  \\\n",
       "0  Depends on Experience  04/16/2021, 19:51:28   \n",
       "1  Depends on Experience  04/16/2021, 19:51:31   \n",
       "2  Depends on Experience  04/16/2021, 19:51:34   \n",
       "3                 Market  04/16/2021, 19:51:37   \n",
       "4                 Market  04/16/2021, 19:51:39   \n",
       "\n",
       "                                         description  \\\n",
       "0  Azure AD EngineerLocation: Charlotte, NCDurati...   \n",
       "1  We are looking for a Ad Operations Associate f...   \n",
       "2  Job Title: Ad Operations Onsite AnalystLocatio...   \n",
       "3  Job Description: This role is for a senior Pro...   \n",
       "4  Job Description: IT Service Desk Support Analy...   \n",
       "\n",
       "                                               title  \\\n",
       "0                                  Azure AD Engineer   \n",
       "1                            Ad Operations Associate   \n",
       "2                              Ad Operations Analyst   \n",
       "3  Project Manager - Ad Tech, Digital Business, A...   \n",
       "4  Technical Support - Salesforce, TCP/IP, DNS, W...   \n",
       "\n",
       "                                                 url country     industry  \\\n",
       "0  https://www.dice.com/jobs/detail/Azure-AD-Engi...      US  IT Software   \n",
       "1  https://www.dice.com/jobs/detail/Ad-Operations...     NaN  IT Software   \n",
       "2  https://www.dice.com/jobs/detail/Ad-Operations...      US  IT Software   \n",
       "3  https://www.dice.com/jobs/detail/Project-Manag...      US  IT Software   \n",
       "4  https://www.dice.com/jobs/detail/Technical-Sup...      US  IT Software   \n",
       "\n",
       "                            job_type   longitude currency  \\\n",
       "0  Contract W2, Contract Independent  -80.843124      USD   \n",
       "1                        Contract W2    0.000000      USD   \n",
       "2  Contract W2, Contract Independent -122.411090      USD   \n",
       "3                        Contract W2 -122.333220      USD   \n",
       "4                        Contract W2  -82.342995      USD   \n",
       "\n",
       "            education_requirements postal_code       location  \\\n",
       "0  IT Diploma/Degree/Certification       28201  Charlotte, NC   \n",
       "1  IT Diploma/Degree/Certification         NaN            NaN   \n",
       "2  IT Diploma/Degree/Certification       94066  San Bruno, CA   \n",
       "3  IT Diploma/Degree/Certification       98101    Seattle, WA   \n",
       "4  IT Diploma/Degree/Certification       33601      Tampa, FL   \n",
       "\n",
       "                                     raw_description  \\\n",
       "0  <div class=\"highlight-black\" id=\"jobdescSec\">\\...   \n",
       "1  <div class=\"highlight-black\" id=\"jobdescSec\">\\...   \n",
       "2  <div class=\"highlight-black\" id=\"jobdescSec\">\\...   \n",
       "3  <div class=\"highlight-black\" id=\"jobdescSec\">\\...   \n",
       "4  <div class=\"highlight-black\" id=\"jobdescSec\">\\...   \n",
       "\n",
       "                                              skills   latitude  \\\n",
       "0                                           Azure AD  35.227085   \n",
       "1  Account management, Advertising, Content marke...   0.000000   \n",
       "2  Campaign management, Media buying, Analytics, ...  37.630490   \n",
       "3  Ad Tech, Digital Business, Agile, Sprints, Sma...  47.611330   \n",
       "4      Salesforce, TCP/IP, DNS, WINS, AD, ServiceNow  27.981146   \n",
       "\n",
       "                                    _id  \\\n",
       "0  6ea0725a-554f-5db9-8fa3-81b8eea3d9c6   \n",
       "1  68afe519-ecca-5fe8-a553-2b4511d367e2   \n",
       "2  9221c243-e03a-5c7c-96f6-37d8edcd39a6   \n",
       "3  493b1cc2-3c1e-5cd4-bd3e-d4a6403b2501   \n",
       "4  34d5e29c-0645-5567-b4c1-2820abcc316f   \n",
       "\n",
       "                                 company             posted_at  \\\n",
       "0                   Nutech Systems, Inc.  2021-04-13T22:31:54Z   \n",
       "1               Software Resources, Inc.  2021-04-12T16:31:29Z   \n",
       "2                         Tranzeal, Inc.  2021-04-14T20:15:06Z   \n",
       "3  Software Management Consultants, Inc.  2021-04-01T01:05:06Z   \n",
       "4  Software Management Consultants, Inc.  2021-04-10T01:05:17Z   \n",
       "\n",
       "                 source  \n",
       "0  https://www.dice.com  \n",
       "1  https://www.dice.com  \n",
       "2  https://www.dice.com  \n",
       "3  https://www.dice.com  \n",
       "4  https://www.dice.com  "
      ]
     },
     "execution_count": 4,
     "metadata": {},
     "output_type": "execute_result"
    }
   ],
   "source": [
    "dice.head()"
   ]
  },
  {
   "cell_type": "code",
   "execution_count": 5,
   "id": "d51a8f6d",
   "metadata": {
    "pycharm": {
     "name": "#%%\n"
    }
   },
   "outputs": [
    {
     "name": "stdout",
     "output_type": "stream",
     "text": [
      "<class 'pandas.core.frame.DataFrame'>\n",
      "RangeIndex: 9814 entries, 0 to 9813\n",
      "Data columns (total 20 columns):\n",
      " #   Column                  Non-Null Count  Dtype  \n",
      "---  ------                  --------------  -----  \n",
      " 0   salary                  9813 non-null   object \n",
      " 1   crawled_at              9814 non-null   object \n",
      " 2   description             9814 non-null   object \n",
      " 3   title                   9814 non-null   object \n",
      " 4   url                     9814 non-null   object \n",
      " 5   country                 8613 non-null   object \n",
      " 6   industry                9814 non-null   object \n",
      " 7   job_type                9814 non-null   object \n",
      " 8   longitude               9814 non-null   float64\n",
      " 9   currency                9814 non-null   object \n",
      " 10  education_requirements  9814 non-null   object \n",
      " 11  postal_code             8232 non-null   object \n",
      " 12  location                8602 non-null   object \n",
      " 13  raw_description         9814 non-null   object \n",
      " 14  skills                  9569 non-null   object \n",
      " 15  latitude                9814 non-null   float64\n",
      " 16  _id                     9814 non-null   object \n",
      " 17  company                 9814 non-null   object \n",
      " 18  posted_at               9812 non-null   object \n",
      " 19  source                  9814 non-null   object \n",
      "dtypes: float64(2), object(18)\n",
      "memory usage: 1.5+ MB\n"
     ]
    }
   ],
   "source": [
    "dice.info()"
   ]
  },
  {
   "cell_type": "markdown",
   "id": "8ab3b8ee",
   "metadata": {
    "pycharm": {
     "name": "#%% md\n"
    }
   },
   "source": [
    "# Cleaning the dataset"
   ]
  },
  {
   "cell_type": "code",
   "execution_count": 6,
   "id": "9e572044",
   "metadata": {
    "pycharm": {
     "name": "#%%\n"
    }
   },
   "outputs": [
    {
     "data": {
      "text/html": [
       "<div>\n",
       "<style scoped>\n",
       "    .dataframe tbody tr th:only-of-type {\n",
       "        vertical-align: middle;\n",
       "    }\n",
       "\n",
       "    .dataframe tbody tr th {\n",
       "        vertical-align: top;\n",
       "    }\n",
       "\n",
       "    .dataframe thead th {\n",
       "        text-align: right;\n",
       "    }\n",
       "</style>\n",
       "<table border=\"1\" class=\"dataframe\">\n",
       "  <thead>\n",
       "    <tr style=\"text-align: right;\">\n",
       "      <th></th>\n",
       "      <th>salary</th>\n",
       "      <th>description</th>\n",
       "      <th>title</th>\n",
       "      <th>url</th>\n",
       "      <th>country</th>\n",
       "      <th>industry</th>\n",
       "      <th>job_type</th>\n",
       "      <th>longitude</th>\n",
       "      <th>currency</th>\n",
       "      <th>education_requirements</th>\n",
       "      <th>postal_code</th>\n",
       "      <th>location</th>\n",
       "      <th>skills</th>\n",
       "      <th>latitude</th>\n",
       "      <th>company</th>\n",
       "      <th>posted_at</th>\n",
       "    </tr>\n",
       "  </thead>\n",
       "  <tbody>\n",
       "    <tr>\n",
       "      <th>0</th>\n",
       "      <td>Depends on Experience</td>\n",
       "      <td>Azure AD EngineerLocation: Charlotte, NCDurati...</td>\n",
       "      <td>Azure AD Engineer</td>\n",
       "      <td>https://www.dice.com/jobs/detail/Azure-AD-Engi...</td>\n",
       "      <td>US</td>\n",
       "      <td>IT Software</td>\n",
       "      <td>Contract W2, Contract Independent</td>\n",
       "      <td>-80.843124</td>\n",
       "      <td>USD</td>\n",
       "      <td>IT Diploma/Degree/Certification</td>\n",
       "      <td>28201</td>\n",
       "      <td>Charlotte, NC</td>\n",
       "      <td>Azure AD</td>\n",
       "      <td>35.227085</td>\n",
       "      <td>Nutech Systems, Inc.</td>\n",
       "      <td>2021-04-13T22:31:54Z</td>\n",
       "    </tr>\n",
       "    <tr>\n",
       "      <th>1</th>\n",
       "      <td>Depends on Experience</td>\n",
       "      <td>We are looking for a Ad Operations Associate f...</td>\n",
       "      <td>Ad Operations Associate</td>\n",
       "      <td>https://www.dice.com/jobs/detail/Ad-Operations...</td>\n",
       "      <td>NaN</td>\n",
       "      <td>IT Software</td>\n",
       "      <td>Contract W2</td>\n",
       "      <td>0.000000</td>\n",
       "      <td>USD</td>\n",
       "      <td>IT Diploma/Degree/Certification</td>\n",
       "      <td>NaN</td>\n",
       "      <td>NaN</td>\n",
       "      <td>Account management, Advertising, Content marke...</td>\n",
       "      <td>0.000000</td>\n",
       "      <td>Software Resources, Inc.</td>\n",
       "      <td>2021-04-12T16:31:29Z</td>\n",
       "    </tr>\n",
       "    <tr>\n",
       "      <th>2</th>\n",
       "      <td>Depends on Experience</td>\n",
       "      <td>Job Title: Ad Operations Onsite AnalystLocatio...</td>\n",
       "      <td>Ad Operations Analyst</td>\n",
       "      <td>https://www.dice.com/jobs/detail/Ad-Operations...</td>\n",
       "      <td>US</td>\n",
       "      <td>IT Software</td>\n",
       "      <td>Contract W2, Contract Independent</td>\n",
       "      <td>-122.411090</td>\n",
       "      <td>USD</td>\n",
       "      <td>IT Diploma/Degree/Certification</td>\n",
       "      <td>94066</td>\n",
       "      <td>San Bruno, CA</td>\n",
       "      <td>Campaign management, Media buying, Analytics, ...</td>\n",
       "      <td>37.630490</td>\n",
       "      <td>Tranzeal, Inc.</td>\n",
       "      <td>2021-04-14T20:15:06Z</td>\n",
       "    </tr>\n",
       "    <tr>\n",
       "      <th>3</th>\n",
       "      <td>Market</td>\n",
       "      <td>Job Description: This role is for a senior Pro...</td>\n",
       "      <td>Project Manager - Ad Tech, Digital Business, A...</td>\n",
       "      <td>https://www.dice.com/jobs/detail/Project-Manag...</td>\n",
       "      <td>US</td>\n",
       "      <td>IT Software</td>\n",
       "      <td>Contract W2</td>\n",
       "      <td>-122.333220</td>\n",
       "      <td>USD</td>\n",
       "      <td>IT Diploma/Degree/Certification</td>\n",
       "      <td>98101</td>\n",
       "      <td>Seattle, WA</td>\n",
       "      <td>Ad Tech, Digital Business, Agile, Sprints, Sma...</td>\n",
       "      <td>47.611330</td>\n",
       "      <td>Software Management Consultants, Inc.</td>\n",
       "      <td>2021-04-01T01:05:06Z</td>\n",
       "    </tr>\n",
       "    <tr>\n",
       "      <th>4</th>\n",
       "      <td>Market</td>\n",
       "      <td>Job Description: IT Service Desk Support Analy...</td>\n",
       "      <td>Technical Support - Salesforce, TCP/IP, DNS, W...</td>\n",
       "      <td>https://www.dice.com/jobs/detail/Technical-Sup...</td>\n",
       "      <td>US</td>\n",
       "      <td>IT Software</td>\n",
       "      <td>Contract W2</td>\n",
       "      <td>-82.342995</td>\n",
       "      <td>USD</td>\n",
       "      <td>IT Diploma/Degree/Certification</td>\n",
       "      <td>33601</td>\n",
       "      <td>Tampa, FL</td>\n",
       "      <td>Salesforce, TCP/IP, DNS, WINS, AD, ServiceNow</td>\n",
       "      <td>27.981146</td>\n",
       "      <td>Software Management Consultants, Inc.</td>\n",
       "      <td>2021-04-10T01:05:17Z</td>\n",
       "    </tr>\n",
       "  </tbody>\n",
       "</table>\n",
       "</div>"
      ],
      "text/plain": [
       "                  salary                                        description  \\\n",
       "0  Depends on Experience  Azure AD EngineerLocation: Charlotte, NCDurati...   \n",
       "1  Depends on Experience  We are looking for a Ad Operations Associate f...   \n",
       "2  Depends on Experience  Job Title: Ad Operations Onsite AnalystLocatio...   \n",
       "3                 Market  Job Description: This role is for a senior Pro...   \n",
       "4                 Market  Job Description: IT Service Desk Support Analy...   \n",
       "\n",
       "                                               title  \\\n",
       "0                                  Azure AD Engineer   \n",
       "1                            Ad Operations Associate   \n",
       "2                              Ad Operations Analyst   \n",
       "3  Project Manager - Ad Tech, Digital Business, A...   \n",
       "4  Technical Support - Salesforce, TCP/IP, DNS, W...   \n",
       "\n",
       "                                                 url country     industry  \\\n",
       "0  https://www.dice.com/jobs/detail/Azure-AD-Engi...      US  IT Software   \n",
       "1  https://www.dice.com/jobs/detail/Ad-Operations...     NaN  IT Software   \n",
       "2  https://www.dice.com/jobs/detail/Ad-Operations...      US  IT Software   \n",
       "3  https://www.dice.com/jobs/detail/Project-Manag...      US  IT Software   \n",
       "4  https://www.dice.com/jobs/detail/Technical-Sup...      US  IT Software   \n",
       "\n",
       "                            job_type   longitude currency  \\\n",
       "0  Contract W2, Contract Independent  -80.843124      USD   \n",
       "1                        Contract W2    0.000000      USD   \n",
       "2  Contract W2, Contract Independent -122.411090      USD   \n",
       "3                        Contract W2 -122.333220      USD   \n",
       "4                        Contract W2  -82.342995      USD   \n",
       "\n",
       "            education_requirements postal_code       location  \\\n",
       "0  IT Diploma/Degree/Certification       28201  Charlotte, NC   \n",
       "1  IT Diploma/Degree/Certification         NaN            NaN   \n",
       "2  IT Diploma/Degree/Certification       94066  San Bruno, CA   \n",
       "3  IT Diploma/Degree/Certification       98101    Seattle, WA   \n",
       "4  IT Diploma/Degree/Certification       33601      Tampa, FL   \n",
       "\n",
       "                                              skills   latitude  \\\n",
       "0                                           Azure AD  35.227085   \n",
       "1  Account management, Advertising, Content marke...   0.000000   \n",
       "2  Campaign management, Media buying, Analytics, ...  37.630490   \n",
       "3  Ad Tech, Digital Business, Agile, Sprints, Sma...  47.611330   \n",
       "4      Salesforce, TCP/IP, DNS, WINS, AD, ServiceNow  27.981146   \n",
       "\n",
       "                                 company             posted_at  \n",
       "0                   Nutech Systems, Inc.  2021-04-13T22:31:54Z  \n",
       "1               Software Resources, Inc.  2021-04-12T16:31:29Z  \n",
       "2                         Tranzeal, Inc.  2021-04-14T20:15:06Z  \n",
       "3  Software Management Consultants, Inc.  2021-04-01T01:05:06Z  \n",
       "4  Software Management Consultants, Inc.  2021-04-10T01:05:17Z  "
      ]
     },
     "execution_count": 6,
     "metadata": {},
     "output_type": "execute_result"
    }
   ],
   "source": [
    "df = dice.drop(['crawled_at', 'raw_description', '_id', 'source'], axis=1)\n",
    "df.head()"
   ]
  },
  {
   "cell_type": "code",
   "execution_count": 7,
   "id": "9f034696",
   "metadata": {
    "pycharm": {
     "name": "#%%\n"
    }
   },
   "outputs": [
    {
     "name": "stdout",
     "output_type": "stream",
     "text": [
      "<class 'pandas.core.frame.DataFrame'>\n",
      "RangeIndex: 9814 entries, 0 to 9813\n",
      "Data columns (total 16 columns):\n",
      " #   Column                  Non-Null Count  Dtype         \n",
      "---  ------                  --------------  -----         \n",
      " 0   salary                  9813 non-null   string        \n",
      " 1   description             9814 non-null   string        \n",
      " 2   title                   9814 non-null   string        \n",
      " 3   url                     9814 non-null   string        \n",
      " 4   country                 8613 non-null   string        \n",
      " 5   industry                9814 non-null   string        \n",
      " 6   job_type                9814 non-null   string        \n",
      " 7   longitude               9814 non-null   float64       \n",
      " 8   currency                9814 non-null   string        \n",
      " 9   education_requirements  9814 non-null   string        \n",
      " 10  postal_code             8232 non-null   string        \n",
      " 11  location                8602 non-null   string        \n",
      " 12  skills                  9569 non-null   string        \n",
      " 13  latitude                9814 non-null   float64       \n",
      " 14  company                 9814 non-null   string        \n",
      " 15  posted_at               9812 non-null   datetime64[ns]\n",
      "dtypes: datetime64[ns](1), float64(2), string(13)\n",
      "memory usage: 1.2 MB\n"
     ]
    }
   ],
   "source": [
    "data_types = {'salary': 'string', 'description': 'string', 'title': 'string', 'url': 'string',\n",
    "             'country': 'string', 'industry': 'string', 'job_type': 'string', 'longitude': 'float64', 'currency': 'string',\n",
    "             'education_requirements': 'string', 'postal_code': 'string', 'location': 'string', 'skills': 'string', \n",
    "             'latitude': 'float64', 'company': 'string', 'posted_at': 'datetime64'}\n",
    "df = df.astype(data_types)\n",
    "df.info()"
   ]
  },
  {
   "cell_type": "code",
   "execution_count": 8,
   "id": "58f48799",
   "metadata": {
    "pycharm": {
     "name": "#%%\n"
    }
   },
   "outputs": [
    {
     "data": {
      "text/plain": [
       "87      <NA>\n",
       "91      <NA>\n",
       "261     <NA>\n",
       "262     <NA>\n",
       "263     <NA>\n",
       "        ... \n",
       "9491    <NA>\n",
       "9532    <NA>\n",
       "9545    <NA>\n",
       "9622    <NA>\n",
       "9786    <NA>\n",
       "Name: skills, Length: 245, dtype: string"
      ]
     },
     "execution_count": 8,
     "metadata": {},
     "output_type": "execute_result"
    }
   ],
   "source": [
    "df.loc[df.skills.isna(), 'skills']"
   ]
  },
  {
   "cell_type": "code",
   "execution_count": 9,
   "id": "faed2881",
   "metadata": {
    "pycharm": {
     "name": "#%%\n"
    }
   },
   "outputs": [
    {
     "data": {
      "text/plain": [
       "Series([], Name: skills, dtype: string)"
      ]
     },
     "execution_count": 9,
     "metadata": {},
     "output_type": "execute_result"
    }
   ],
   "source": [
    "df['skills'].replace(np.nan, '', inplace=True)\n",
    "df.loc[df.skills.isna(), 'skills']"
   ]
  },
  {
   "cell_type": "code",
   "execution_count": 10,
   "id": "5f760034",
   "metadata": {
    "pycharm": {
     "name": "#%%\n"
    }
   },
   "outputs": [],
   "source": [
    "df.replace('', np.nan, inplace=True)"
   ]
  },
  {
   "cell_type": "code",
   "execution_count": 11,
   "id": "bbe9b954",
   "metadata": {
    "pycharm": {
     "name": "#%%\n"
    }
   },
   "outputs": [
    {
     "data": {
      "text/html": [
       "<div>\n",
       "<style scoped>\n",
       "    .dataframe tbody tr th:only-of-type {\n",
       "        vertical-align: middle;\n",
       "    }\n",
       "\n",
       "    .dataframe tbody tr th {\n",
       "        vertical-align: top;\n",
       "    }\n",
       "\n",
       "    .dataframe thead th {\n",
       "        text-align: right;\n",
       "    }\n",
       "</style>\n",
       "<table border=\"1\" class=\"dataframe\">\n",
       "  <thead>\n",
       "    <tr style=\"text-align: right;\">\n",
       "      <th></th>\n",
       "      <th>salary</th>\n",
       "      <th>description</th>\n",
       "      <th>title</th>\n",
       "      <th>url</th>\n",
       "      <th>country</th>\n",
       "      <th>industry</th>\n",
       "      <th>job_type</th>\n",
       "      <th>longitude</th>\n",
       "      <th>currency</th>\n",
       "      <th>education_requirements</th>\n",
       "      <th>postal_code</th>\n",
       "      <th>location</th>\n",
       "      <th>skills</th>\n",
       "      <th>latitude</th>\n",
       "      <th>company</th>\n",
       "      <th>posted_at</th>\n",
       "    </tr>\n",
       "  </thead>\n",
       "  <tbody>\n",
       "    <tr>\n",
       "      <th>1</th>\n",
       "      <td>Depends on Experience</td>\n",
       "      <td>We are looking for a Ad Operations Associate f...</td>\n",
       "      <td>Ad Operations Associate</td>\n",
       "      <td>https://www.dice.com/jobs/detail/Ad-Operations...</td>\n",
       "      <td>&lt;NA&gt;</td>\n",
       "      <td>IT Software</td>\n",
       "      <td>Contract W2</td>\n",
       "      <td>0.00000</td>\n",
       "      <td>USD</td>\n",
       "      <td>IT Diploma/Degree/Certification</td>\n",
       "      <td>&lt;NA&gt;</td>\n",
       "      <td>&lt;NA&gt;</td>\n",
       "      <td>Account management, Advertising, Content marke...</td>\n",
       "      <td>0.000000</td>\n",
       "      <td>Software Resources, Inc.</td>\n",
       "      <td>2021-04-12 16:31:29</td>\n",
       "    </tr>\n",
       "    <tr>\n",
       "      <th>7</th>\n",
       "      <td>No Salary Listed</td>\n",
       "      <td>Flexion is currently seeking a REMOTE AAD/AD A...</td>\n",
       "      <td>REMOTE AAD/AD Active Directory Consultant (3669)</td>\n",
       "      <td>https://www.dice.com/jobs/detail/REMOTE-AAD%26...</td>\n",
       "      <td>&lt;NA&gt;</td>\n",
       "      <td>IT Software</td>\n",
       "      <td>Contract W2</td>\n",
       "      <td>0.00000</td>\n",
       "      <td>USD</td>\n",
       "      <td>IT Diploma/Degree/Certification</td>\n",
       "      <td>&lt;NA&gt;</td>\n",
       "      <td>&lt;NA&gt;</td>\n",
       "      <td>Active Directory, Azure Active Directory</td>\n",
       "      <td>0.000000</td>\n",
       "      <td>Flexion Inc</td>\n",
       "      <td>2021-04-06 12:30:55</td>\n",
       "    </tr>\n",
       "    <tr>\n",
       "      <th>13</th>\n",
       "      <td>$65 - $70</td>\n",
       "      <td>JOB Description :Solution Architect- Microsoft...</td>\n",
       "      <td>Solution Architect</td>\n",
       "      <td>https://www.dice.com/jobs/detail/Solution-Arch...</td>\n",
       "      <td>US</td>\n",
       "      <td>IT Software</td>\n",
       "      <td>Contract W2</td>\n",
       "      <td>-104.99025</td>\n",
       "      <td>USD</td>\n",
       "      <td>IT Diploma/Degree/Certification</td>\n",
       "      <td>&lt;NA&gt;</td>\n",
       "      <td>Denver, Colorado</td>\n",
       "      <td>Microsoft AD, ForgeRock, IIQ, .Net stack</td>\n",
       "      <td>39.739235</td>\n",
       "      <td>Igen Systems</td>\n",
       "      <td>2021-04-07 14:46:16</td>\n",
       "    </tr>\n",
       "    <tr>\n",
       "      <th>17</th>\n",
       "      <td>$100,000 - $130,000</td>\n",
       "      <td>Remote position - work from home - as some of ...</td>\n",
       "      <td>Identity Security Consultant</td>\n",
       "      <td>https://www.dice.com/jobs/detail/Identity-Secu...</td>\n",
       "      <td>&lt;NA&gt;</td>\n",
       "      <td>IT Software</td>\n",
       "      <td>Full Time</td>\n",
       "      <td>0.00000</td>\n",
       "      <td>USD</td>\n",
       "      <td>IT Diploma/Degree/Certification</td>\n",
       "      <td>&lt;NA&gt;</td>\n",
       "      <td>&lt;NA&gt;</td>\n",
       "      <td>Identity Access Management, Privilege Access M...</td>\n",
       "      <td>0.000000</td>\n",
       "      <td>XMS Solutions Inc</td>\n",
       "      <td>2021-03-30 20:45:21</td>\n",
       "    </tr>\n",
       "    <tr>\n",
       "      <th>22</th>\n",
       "      <td>$60,000 - $120,000</td>\n",
       "      <td>BlueSage Solutions is hiring. Cutting edge tec...</td>\n",
       "      <td>Java Software Developer</td>\n",
       "      <td>https://www.dice.com/jobs/detail/Java-Software...</td>\n",
       "      <td>&lt;NA&gt;</td>\n",
       "      <td>IT Software</td>\n",
       "      <td>Full Time</td>\n",
       "      <td>0.00000</td>\n",
       "      <td>USD</td>\n",
       "      <td>IT Diploma/Degree/Certification</td>\n",
       "      <td>&lt;NA&gt;</td>\n",
       "      <td>&lt;NA&gt;</td>\n",
       "      <td>Java, Azure, MySQL, GitHub, Groovy, Sencha, Ex...</td>\n",
       "      <td>0.000000</td>\n",
       "      <td>Blue Sage Solutions</td>\n",
       "      <td>2021-04-09 19:30:02</td>\n",
       "    </tr>\n",
       "    <tr>\n",
       "      <th>...</th>\n",
       "      <td>...</td>\n",
       "      <td>...</td>\n",
       "      <td>...</td>\n",
       "      <td>...</td>\n",
       "      <td>...</td>\n",
       "      <td>...</td>\n",
       "      <td>...</td>\n",
       "      <td>...</td>\n",
       "      <td>...</td>\n",
       "      <td>...</td>\n",
       "      <td>...</td>\n",
       "      <td>...</td>\n",
       "      <td>...</td>\n",
       "      <td>...</td>\n",
       "      <td>...</td>\n",
       "      <td>...</td>\n",
       "    </tr>\n",
       "    <tr>\n",
       "      <th>9801</th>\n",
       "      <td>Depends on Experience</td>\n",
       "      <td>Minimum Requirements:3+ years, SharePoint, One...</td>\n",
       "      <td>SharePoint Engineer</td>\n",
       "      <td>https://www.dice.com/jobs/detail/SharePoint-En...</td>\n",
       "      <td>&lt;NA&gt;</td>\n",
       "      <td>IT Software</td>\n",
       "      <td>Contract W2</td>\n",
       "      <td>0.00000</td>\n",
       "      <td>USD</td>\n",
       "      <td>IT Diploma/Degree/Certification</td>\n",
       "      <td>&lt;NA&gt;</td>\n",
       "      <td>&lt;NA&gt;</td>\n",
       "      <td>SharePoint, O365, Active Directory, Azure AD</td>\n",
       "      <td>0.000000</td>\n",
       "      <td>Indotronix International Corp</td>\n",
       "      <td>2021-03-23 18:18:12</td>\n",
       "    </tr>\n",
       "    <tr>\n",
       "      <th>9806</th>\n",
       "      <td>$60,000 - $120,000</td>\n",
       "      <td>BlueSage Solutions is hiring. Cutting edge tec...</td>\n",
       "      <td>Java Software Developer</td>\n",
       "      <td>https://www.dice.com/jobs/detail/Java-Software...</td>\n",
       "      <td>&lt;NA&gt;</td>\n",
       "      <td>IT Software</td>\n",
       "      <td>Full Time</td>\n",
       "      <td>0.00000</td>\n",
       "      <td>USD</td>\n",
       "      <td>IT Diploma/Degree/Certification</td>\n",
       "      <td>&lt;NA&gt;</td>\n",
       "      <td>&lt;NA&gt;</td>\n",
       "      <td>Java, Azure, MySQL, GitHub, Groovy, Sencha, Ex...</td>\n",
       "      <td>0.000000</td>\n",
       "      <td>Blue Sage Solutions</td>\n",
       "      <td>2021-04-09 19:30:02</td>\n",
       "    </tr>\n",
       "    <tr>\n",
       "      <th>9809</th>\n",
       "      <td>Depends on Experience</td>\n",
       "      <td>LumenVox has an exciting opportunity for a Sof...</td>\n",
       "      <td>Software Developer - Remote</td>\n",
       "      <td>https://www.dice.com/jobs/detail/Software-Deve...</td>\n",
       "      <td>&lt;NA&gt;</td>\n",
       "      <td>IT Software</td>\n",
       "      <td>Full Time</td>\n",
       "      <td>0.00000</td>\n",
       "      <td>USD</td>\n",
       "      <td>IT Diploma/Degree/Certification</td>\n",
       "      <td>&lt;NA&gt;</td>\n",
       "      <td>&lt;NA&gt;</td>\n",
       "      <td>natural language processing, voice biometrics,...</td>\n",
       "      <td>0.000000</td>\n",
       "      <td>LumenVox</td>\n",
       "      <td>2021-04-14 14:15:40</td>\n",
       "    </tr>\n",
       "    <tr>\n",
       "      <th>9810</th>\n",
       "      <td>$80,000 - $110,000</td>\n",
       "      <td>WANTED: Full-Stack Node JS/React (Node.js) (10...</td>\n",
       "      <td>Full-Stack Node JS/React Developer - 100% Remote</td>\n",
       "      <td>https://www.dice.com/jobs/detail/Full%26%2345S...</td>\n",
       "      <td>&lt;NA&gt;</td>\n",
       "      <td>IT Software</td>\n",
       "      <td>Full Time</td>\n",
       "      <td>0.00000</td>\n",
       "      <td>USD</td>\n",
       "      <td>IT Diploma/Degree/Certification</td>\n",
       "      <td>&lt;NA&gt;</td>\n",
       "      <td>&lt;NA&gt;</td>\n",
       "      <td>Engineering, HTML, JavaScript, MongoDB, Node.j...</td>\n",
       "      <td>0.000000</td>\n",
       "      <td>Giftnix</td>\n",
       "      <td>2021-04-06 18:30:02</td>\n",
       "    </tr>\n",
       "    <tr>\n",
       "      <th>9813</th>\n",
       "      <td>Depends on Experience</td>\n",
       "      <td>We are looking for a Senior Java Developer (Re...</td>\n",
       "      <td>Senior Java Developer</td>\n",
       "      <td>https://www.dice.com/jobs/detail/Senior-Java-D...</td>\n",
       "      <td>&lt;NA&gt;</td>\n",
       "      <td>IT Software</td>\n",
       "      <td>Full Time</td>\n",
       "      <td>0.00000</td>\n",
       "      <td>USD</td>\n",
       "      <td>IT Diploma/Degree/Certification</td>\n",
       "      <td>&lt;NA&gt;</td>\n",
       "      <td>&lt;NA&gt;</td>\n",
       "      <td>Microsoft Azure Cloud, Source Control Software...</td>\n",
       "      <td>0.000000</td>\n",
       "      <td>Working Solutions</td>\n",
       "      <td>2021-04-07 14:46:29</td>\n",
       "    </tr>\n",
       "  </tbody>\n",
       "</table>\n",
       "<p>1829 rows × 16 columns</p>\n",
       "</div>"
      ],
      "text/plain": [
       "                     salary  \\\n",
       "1     Depends on Experience   \n",
       "7          No Salary Listed   \n",
       "13                $65 - $70   \n",
       "17      $100,000 - $130,000   \n",
       "22       $60,000 - $120,000   \n",
       "...                     ...   \n",
       "9801  Depends on Experience   \n",
       "9806     $60,000 - $120,000   \n",
       "9809  Depends on Experience   \n",
       "9810     $80,000 - $110,000   \n",
       "9813  Depends on Experience   \n",
       "\n",
       "                                            description  \\\n",
       "1     We are looking for a Ad Operations Associate f...   \n",
       "7     Flexion is currently seeking a REMOTE AAD/AD A...   \n",
       "13    JOB Description :Solution Architect- Microsoft...   \n",
       "17    Remote position - work from home - as some of ...   \n",
       "22    BlueSage Solutions is hiring. Cutting edge tec...   \n",
       "...                                                 ...   \n",
       "9801  Minimum Requirements:3+ years, SharePoint, One...   \n",
       "9806  BlueSage Solutions is hiring. Cutting edge tec...   \n",
       "9809  LumenVox has an exciting opportunity for a Sof...   \n",
       "9810  WANTED: Full-Stack Node JS/React (Node.js) (10...   \n",
       "9813  We are looking for a Senior Java Developer (Re...   \n",
       "\n",
       "                                                 title  \\\n",
       "1                              Ad Operations Associate   \n",
       "7     REMOTE AAD/AD Active Directory Consultant (3669)   \n",
       "13                                  Solution Architect   \n",
       "17                        Identity Security Consultant   \n",
       "22                             Java Software Developer   \n",
       "...                                                ...   \n",
       "9801                               SharePoint Engineer   \n",
       "9806                           Java Software Developer   \n",
       "9809                       Software Developer - Remote   \n",
       "9810  Full-Stack Node JS/React Developer - 100% Remote   \n",
       "9813                             Senior Java Developer   \n",
       "\n",
       "                                                    url country     industry  \\\n",
       "1     https://www.dice.com/jobs/detail/Ad-Operations...    <NA>  IT Software   \n",
       "7     https://www.dice.com/jobs/detail/REMOTE-AAD%26...    <NA>  IT Software   \n",
       "13    https://www.dice.com/jobs/detail/Solution-Arch...      US  IT Software   \n",
       "17    https://www.dice.com/jobs/detail/Identity-Secu...    <NA>  IT Software   \n",
       "22    https://www.dice.com/jobs/detail/Java-Software...    <NA>  IT Software   \n",
       "...                                                 ...     ...          ...   \n",
       "9801  https://www.dice.com/jobs/detail/SharePoint-En...    <NA>  IT Software   \n",
       "9806  https://www.dice.com/jobs/detail/Java-Software...    <NA>  IT Software   \n",
       "9809  https://www.dice.com/jobs/detail/Software-Deve...    <NA>  IT Software   \n",
       "9810  https://www.dice.com/jobs/detail/Full%26%2345S...    <NA>  IT Software   \n",
       "9813  https://www.dice.com/jobs/detail/Senior-Java-D...    <NA>  IT Software   \n",
       "\n",
       "         job_type  longitude currency           education_requirements  \\\n",
       "1     Contract W2    0.00000      USD  IT Diploma/Degree/Certification   \n",
       "7     Contract W2    0.00000      USD  IT Diploma/Degree/Certification   \n",
       "13    Contract W2 -104.99025      USD  IT Diploma/Degree/Certification   \n",
       "17      Full Time    0.00000      USD  IT Diploma/Degree/Certification   \n",
       "22      Full Time    0.00000      USD  IT Diploma/Degree/Certification   \n",
       "...           ...        ...      ...                              ...   \n",
       "9801  Contract W2    0.00000      USD  IT Diploma/Degree/Certification   \n",
       "9806    Full Time    0.00000      USD  IT Diploma/Degree/Certification   \n",
       "9809    Full Time    0.00000      USD  IT Diploma/Degree/Certification   \n",
       "9810    Full Time    0.00000      USD  IT Diploma/Degree/Certification   \n",
       "9813    Full Time    0.00000      USD  IT Diploma/Degree/Certification   \n",
       "\n",
       "     postal_code          location  \\\n",
       "1           <NA>              <NA>   \n",
       "7           <NA>              <NA>   \n",
       "13          <NA>  Denver, Colorado   \n",
       "17          <NA>              <NA>   \n",
       "22          <NA>              <NA>   \n",
       "...          ...               ...   \n",
       "9801        <NA>              <NA>   \n",
       "9806        <NA>              <NA>   \n",
       "9809        <NA>              <NA>   \n",
       "9810        <NA>              <NA>   \n",
       "9813        <NA>              <NA>   \n",
       "\n",
       "                                                 skills   latitude  \\\n",
       "1     Account management, Advertising, Content marke...   0.000000   \n",
       "7              Active Directory, Azure Active Directory   0.000000   \n",
       "13             Microsoft AD, ForgeRock, IIQ, .Net stack  39.739235   \n",
       "17    Identity Access Management, Privilege Access M...   0.000000   \n",
       "22    Java, Azure, MySQL, GitHub, Groovy, Sencha, Ex...   0.000000   \n",
       "...                                                 ...        ...   \n",
       "9801       SharePoint, O365, Active Directory, Azure AD   0.000000   \n",
       "9806  Java, Azure, MySQL, GitHub, Groovy, Sencha, Ex...   0.000000   \n",
       "9809  natural language processing, voice biometrics,...   0.000000   \n",
       "9810  Engineering, HTML, JavaScript, MongoDB, Node.j...   0.000000   \n",
       "9813  Microsoft Azure Cloud, Source Control Software...   0.000000   \n",
       "\n",
       "                            company           posted_at  \n",
       "1          Software Resources, Inc. 2021-04-12 16:31:29  \n",
       "7                       Flexion Inc 2021-04-06 12:30:55  \n",
       "13                     Igen Systems 2021-04-07 14:46:16  \n",
       "17                XMS Solutions Inc 2021-03-30 20:45:21  \n",
       "22              Blue Sage Solutions 2021-04-09 19:30:02  \n",
       "...                             ...                 ...  \n",
       "9801  Indotronix International Corp 2021-03-23 18:18:12  \n",
       "9806            Blue Sage Solutions 2021-04-09 19:30:02  \n",
       "9809                       LumenVox 2021-04-14 14:15:40  \n",
       "9810                        Giftnix 2021-04-06 18:30:02  \n",
       "9813              Working Solutions 2021-04-07 14:46:29  \n",
       "\n",
       "[1829 rows x 16 columns]"
      ]
     },
     "execution_count": 11,
     "metadata": {},
     "output_type": "execute_result"
    }
   ],
   "source": [
    "df.loc[df.isna().any(axis=1), :]"
   ]
  },
  {
   "cell_type": "markdown",
   "id": "00e0946a",
   "metadata": {
    "pycharm": {
     "name": "#%% md\n"
    }
   },
   "source": [
    "# Only keeping US data"
   ]
  },
  {
   "cell_type": "code",
   "execution_count": 12,
   "id": "dd8a54c4",
   "metadata": {
    "pycharm": {
     "name": "#%%\n"
    }
   },
   "outputs": [
    {
     "data": {
      "text/plain": [
       "US    8438\n",
       "CA      78\n",
       "IN      51\n",
       "us      15\n",
       "UN       6\n",
       "DK       6\n",
       "BR       5\n",
       "ca       3\n",
       "BG       3\n",
       "GB       3\n",
       "IE       2\n",
       "U.       1\n",
       "LT       1\n",
       "NL       1\n",
       "Name: country, dtype: Int64"
      ]
     },
     "execution_count": 12,
     "metadata": {},
     "output_type": "execute_result"
    }
   ],
   "source": [
    "df['country'].value_counts()"
   ]
  },
  {
   "cell_type": "code",
   "execution_count": 13,
   "id": "b838c706",
   "metadata": {
    "pycharm": {
     "name": "#%%\n"
    }
   },
   "outputs": [
    {
     "data": {
      "text/plain": [
       "568       Minneapolis, MN\n",
       "1942         Dearborn, MI\n",
       "2096       Cincinnati, OH\n",
       "2291    Sandy Springs, GA\n",
       "4592       Cincinnati, OH\n",
       "4642       Cincinnati, OH\n",
       "4644       Cincinnati, OH\n",
       "4648       Cincinnati, OH\n",
       "4649       Cincinnati, OH\n",
       "5371             Lehi, UT\n",
       "5979         Dearborn, MI\n",
       "5980         Dearborn, MI\n",
       "8036      Santa Clara, CA\n",
       "8105      Santa Clara, CA\n",
       "8301          Ashburn, VA\n",
       "Name: location, dtype: string"
      ]
     },
     "execution_count": 13,
     "metadata": {},
     "output_type": "execute_result"
    }
   ],
   "source": [
    "df.loc[df['country']=='us','location']"
   ]
  },
  {
   "cell_type": "code",
   "execution_count": 14,
   "id": "8636d301",
   "metadata": {
    "pycharm": {
     "name": "#%%\n"
    }
   },
   "outputs": [],
   "source": [
    "df['country'] = df['country'].replace({'us': 'US'})"
   ]
  },
  {
   "cell_type": "code",
   "execution_count": 15,
   "id": "25ccd1e4",
   "metadata": {
    "pycharm": {
     "name": "#%%\n"
    }
   },
   "outputs": [
    {
     "data": {
      "text/plain": [
       "US    8453\n",
       "CA      78\n",
       "IN      51\n",
       "UN       6\n",
       "DK       6\n",
       "BR       5\n",
       "ca       3\n",
       "BG       3\n",
       "GB       3\n",
       "IE       2\n",
       "U.       1\n",
       "LT       1\n",
       "NL       1\n",
       "Name: country, dtype: Int64"
      ]
     },
     "execution_count": 15,
     "metadata": {},
     "output_type": "execute_result"
    }
   ],
   "source": [
    "df['country'].value_counts()"
   ]
  },
  {
   "cell_type": "code",
   "execution_count": 16,
   "id": "410fa02e",
   "metadata": {
    "pycharm": {
     "name": "#%%\n"
    }
   },
   "outputs": [
    {
     "data": {
      "text/html": [
       "<div>\n",
       "<style scoped>\n",
       "    .dataframe tbody tr th:only-of-type {\n",
       "        vertical-align: middle;\n",
       "    }\n",
       "\n",
       "    .dataframe tbody tr th {\n",
       "        vertical-align: top;\n",
       "    }\n",
       "\n",
       "    .dataframe thead th {\n",
       "        text-align: right;\n",
       "    }\n",
       "</style>\n",
       "<table border=\"1\" class=\"dataframe\">\n",
       "  <thead>\n",
       "    <tr style=\"text-align: right;\">\n",
       "      <th></th>\n",
       "      <th>salary</th>\n",
       "      <th>description</th>\n",
       "      <th>title</th>\n",
       "      <th>url</th>\n",
       "      <th>country</th>\n",
       "      <th>industry</th>\n",
       "      <th>job_type</th>\n",
       "      <th>longitude</th>\n",
       "      <th>currency</th>\n",
       "      <th>education_requirements</th>\n",
       "      <th>postal_code</th>\n",
       "      <th>location</th>\n",
       "      <th>skills</th>\n",
       "      <th>latitude</th>\n",
       "      <th>company</th>\n",
       "      <th>posted_at</th>\n",
       "    </tr>\n",
       "  </thead>\n",
       "  <tbody>\n",
       "    <tr>\n",
       "      <th>0</th>\n",
       "      <td>Depends on Experience</td>\n",
       "      <td>Azure AD EngineerLocation: Charlotte, NCDurati...</td>\n",
       "      <td>Azure AD Engineer</td>\n",
       "      <td>https://www.dice.com/jobs/detail/Azure-AD-Engi...</td>\n",
       "      <td>US</td>\n",
       "      <td>IT Software</td>\n",
       "      <td>Contract W2, Contract Independent</td>\n",
       "      <td>-80.843124</td>\n",
       "      <td>USD</td>\n",
       "      <td>IT Diploma/Degree/Certification</td>\n",
       "      <td>28201</td>\n",
       "      <td>Charlotte, NC</td>\n",
       "      <td>Azure AD</td>\n",
       "      <td>35.227085</td>\n",
       "      <td>Nutech Systems, Inc.</td>\n",
       "      <td>2021-04-13 22:31:54</td>\n",
       "    </tr>\n",
       "    <tr>\n",
       "      <th>2</th>\n",
       "      <td>Depends on Experience</td>\n",
       "      <td>Job Title: Ad Operations Onsite AnalystLocatio...</td>\n",
       "      <td>Ad Operations Analyst</td>\n",
       "      <td>https://www.dice.com/jobs/detail/Ad-Operations...</td>\n",
       "      <td>US</td>\n",
       "      <td>IT Software</td>\n",
       "      <td>Contract W2, Contract Independent</td>\n",
       "      <td>-122.411090</td>\n",
       "      <td>USD</td>\n",
       "      <td>IT Diploma/Degree/Certification</td>\n",
       "      <td>94066</td>\n",
       "      <td>San Bruno, CA</td>\n",
       "      <td>Campaign management, Media buying, Analytics, ...</td>\n",
       "      <td>37.630490</td>\n",
       "      <td>Tranzeal, Inc.</td>\n",
       "      <td>2021-04-14 20:15:06</td>\n",
       "    </tr>\n",
       "    <tr>\n",
       "      <th>3</th>\n",
       "      <td>Market</td>\n",
       "      <td>Job Description: This role is for a senior Pro...</td>\n",
       "      <td>Project Manager - Ad Tech, Digital Business, A...</td>\n",
       "      <td>https://www.dice.com/jobs/detail/Project-Manag...</td>\n",
       "      <td>US</td>\n",
       "      <td>IT Software</td>\n",
       "      <td>Contract W2</td>\n",
       "      <td>-122.333220</td>\n",
       "      <td>USD</td>\n",
       "      <td>IT Diploma/Degree/Certification</td>\n",
       "      <td>98101</td>\n",
       "      <td>Seattle, WA</td>\n",
       "      <td>Ad Tech, Digital Business, Agile, Sprints, Sma...</td>\n",
       "      <td>47.611330</td>\n",
       "      <td>Software Management Consultants, Inc.</td>\n",
       "      <td>2021-04-01 01:05:06</td>\n",
       "    </tr>\n",
       "    <tr>\n",
       "      <th>4</th>\n",
       "      <td>Market</td>\n",
       "      <td>Job Description: IT Service Desk Support Analy...</td>\n",
       "      <td>Technical Support - Salesforce, TCP/IP, DNS, W...</td>\n",
       "      <td>https://www.dice.com/jobs/detail/Technical-Sup...</td>\n",
       "      <td>US</td>\n",
       "      <td>IT Software</td>\n",
       "      <td>Contract W2</td>\n",
       "      <td>-82.342995</td>\n",
       "      <td>USD</td>\n",
       "      <td>IT Diploma/Degree/Certification</td>\n",
       "      <td>33601</td>\n",
       "      <td>Tampa, FL</td>\n",
       "      <td>Salesforce, TCP/IP, DNS, WINS, AD, ServiceNow</td>\n",
       "      <td>27.981146</td>\n",
       "      <td>Software Management Consultants, Inc.</td>\n",
       "      <td>2021-04-10 01:05:17</td>\n",
       "    </tr>\n",
       "    <tr>\n",
       "      <th>5</th>\n",
       "      <td>Depends on Experience</td>\n",
       "      <td>Mandatory:·         Sr level experience, Netwo...</td>\n",
       "      <td>AD/DNS Engineer</td>\n",
       "      <td>https://www.dice.com/jobs/detail/AD%26%2347DNS...</td>\n",
       "      <td>US</td>\n",
       "      <td>IT Software</td>\n",
       "      <td>Contract W2, Contract Independent</td>\n",
       "      <td>-117.900290</td>\n",
       "      <td>USD</td>\n",
       "      <td>IT Diploma/Degree/Certification</td>\n",
       "      <td>92821</td>\n",
       "      <td>Brea, CA</td>\n",
       "      <td>Active Directory, DNS, Networking, Routing, Su...</td>\n",
       "      <td>33.916473</td>\n",
       "      <td>The Proven Method</td>\n",
       "      <td>2021-04-08 19:45:59</td>\n",
       "    </tr>\n",
       "  </tbody>\n",
       "</table>\n",
       "</div>"
      ],
      "text/plain": [
       "                  salary                                        description  \\\n",
       "0  Depends on Experience  Azure AD EngineerLocation: Charlotte, NCDurati...   \n",
       "2  Depends on Experience  Job Title: Ad Operations Onsite AnalystLocatio...   \n",
       "3                 Market  Job Description: This role is for a senior Pro...   \n",
       "4                 Market  Job Description: IT Service Desk Support Analy...   \n",
       "5  Depends on Experience  Mandatory:·         Sr level experience, Netwo...   \n",
       "\n",
       "                                               title  \\\n",
       "0                                  Azure AD Engineer   \n",
       "2                              Ad Operations Analyst   \n",
       "3  Project Manager - Ad Tech, Digital Business, A...   \n",
       "4  Technical Support - Salesforce, TCP/IP, DNS, W...   \n",
       "5                                    AD/DNS Engineer   \n",
       "\n",
       "                                                 url country     industry  \\\n",
       "0  https://www.dice.com/jobs/detail/Azure-AD-Engi...      US  IT Software   \n",
       "2  https://www.dice.com/jobs/detail/Ad-Operations...      US  IT Software   \n",
       "3  https://www.dice.com/jobs/detail/Project-Manag...      US  IT Software   \n",
       "4  https://www.dice.com/jobs/detail/Technical-Sup...      US  IT Software   \n",
       "5  https://www.dice.com/jobs/detail/AD%26%2347DNS...      US  IT Software   \n",
       "\n",
       "                            job_type   longitude currency  \\\n",
       "0  Contract W2, Contract Independent  -80.843124      USD   \n",
       "2  Contract W2, Contract Independent -122.411090      USD   \n",
       "3                        Contract W2 -122.333220      USD   \n",
       "4                        Contract W2  -82.342995      USD   \n",
       "5  Contract W2, Contract Independent -117.900290      USD   \n",
       "\n",
       "            education_requirements postal_code       location  \\\n",
       "0  IT Diploma/Degree/Certification       28201  Charlotte, NC   \n",
       "2  IT Diploma/Degree/Certification       94066  San Bruno, CA   \n",
       "3  IT Diploma/Degree/Certification       98101    Seattle, WA   \n",
       "4  IT Diploma/Degree/Certification       33601      Tampa, FL   \n",
       "5  IT Diploma/Degree/Certification       92821       Brea, CA   \n",
       "\n",
       "                                              skills   latitude  \\\n",
       "0                                           Azure AD  35.227085   \n",
       "2  Campaign management, Media buying, Analytics, ...  37.630490   \n",
       "3  Ad Tech, Digital Business, Agile, Sprints, Sma...  47.611330   \n",
       "4      Salesforce, TCP/IP, DNS, WINS, AD, ServiceNow  27.981146   \n",
       "5  Active Directory, DNS, Networking, Routing, Su...  33.916473   \n",
       "\n",
       "                                 company           posted_at  \n",
       "0                   Nutech Systems, Inc. 2021-04-13 22:31:54  \n",
       "2                         Tranzeal, Inc. 2021-04-14 20:15:06  \n",
       "3  Software Management Consultants, Inc. 2021-04-01 01:05:06  \n",
       "4  Software Management Consultants, Inc. 2021-04-10 01:05:17  \n",
       "5                      The Proven Method 2021-04-08 19:45:59  "
      ]
     },
     "execution_count": 16,
     "metadata": {},
     "output_type": "execute_result"
    }
   ],
   "source": [
    "df = df.loc[(df['country']=='US'), :]\n",
    "df.head()"
   ]
  },
  {
   "cell_type": "code",
   "execution_count": 17,
   "id": "9ed8d647",
   "metadata": {
    "pycharm": {
     "name": "#%%\n"
    }
   },
   "outputs": [
    {
     "data": {
      "text/plain": [
       "US    8453\n",
       "Name: country, dtype: Int64"
      ]
     },
     "execution_count": 17,
     "metadata": {},
     "output_type": "execute_result"
    }
   ],
   "source": [
    "df['country'].value_counts()"
   ]
  },
  {
   "cell_type": "code",
   "execution_count": 18,
   "id": "d8dfc846",
   "metadata": {
    "pycharm": {
     "name": "#%%\n"
    }
   },
   "outputs": [
    {
     "name": "stdout",
     "output_type": "stream",
     "text": [
      "<class 'pandas.core.frame.DataFrame'>\n",
      "Int64Index: 8453 entries, 0 to 9812\n",
      "Data columns (total 16 columns):\n",
      " #   Column                  Non-Null Count  Dtype         \n",
      "---  ------                  --------------  -----         \n",
      " 0   salary                  8452 non-null   string        \n",
      " 1   description             8453 non-null   string        \n",
      " 2   title                   8453 non-null   string        \n",
      " 3   url                     8453 non-null   string        \n",
      " 4   country                 8453 non-null   string        \n",
      " 5   industry                8453 non-null   string        \n",
      " 6   job_type                8453 non-null   string        \n",
      " 7   longitude               8453 non-null   float64       \n",
      " 8   currency                8453 non-null   string        \n",
      " 9   education_requirements  8453 non-null   string        \n",
      " 10  postal_code             8085 non-null   string        \n",
      " 11  location                8390 non-null   string        \n",
      " 12  skills                  8212 non-null   string        \n",
      " 13  latitude                8453 non-null   float64       \n",
      " 14  company                 8453 non-null   string        \n",
      " 15  posted_at               8451 non-null   datetime64[ns]\n",
      "dtypes: datetime64[ns](1), float64(2), string(13)\n",
      "memory usage: 1.1 MB\n"
     ]
    }
   ],
   "source": [
    "df.info()"
   ]
  },
  {
   "cell_type": "markdown",
   "id": "5e64f702",
   "metadata": {
    "pycharm": {
     "name": "#%% md\n"
    }
   },
   "source": [
    "# Extraction state and adding region column"
   ]
  },
  {
   "cell_type": "code",
   "execution_count": 19,
   "id": "8d4686ed",
   "metadata": {
    "pycharm": {
     "name": "#%%\n"
    }
   },
   "outputs": [
    {
     "data": {
      "text/plain": [
       "New York, NY         275\n",
       "Atlanta, GA          243\n",
       "San Francisco, CA    206\n",
       "Chicago, IL          187\n",
       "Austin, TX           177\n",
       "                    ... \n",
       "Hillsdale, MI          1\n",
       "Sharon, PA             1\n",
       "Warrenville, IL        1\n",
       "Ames, IA               1\n",
       "Harrison, NY           1\n",
       "Name: location, Length: 1111, dtype: Int64"
      ]
     },
     "execution_count": 19,
     "metadata": {},
     "output_type": "execute_result"
    }
   ],
   "source": [
    "df['location'].value_counts()"
   ]
  },
  {
   "cell_type": "code",
   "execution_count": 20,
   "id": "6ab75666",
   "metadata": {
    "pycharm": {
     "name": "#%%\n"
    }
   },
   "outputs": [
    {
     "data": {
      "text/html": [
       "<div>\n",
       "<style scoped>\n",
       "    .dataframe tbody tr th:only-of-type {\n",
       "        vertical-align: middle;\n",
       "    }\n",
       "\n",
       "    .dataframe tbody tr th {\n",
       "        vertical-align: top;\n",
       "    }\n",
       "\n",
       "    .dataframe thead th {\n",
       "        text-align: right;\n",
       "    }\n",
       "</style>\n",
       "<table border=\"1\" class=\"dataframe\">\n",
       "  <thead>\n",
       "    <tr style=\"text-align: right;\">\n",
       "      <th></th>\n",
       "      <th>state</th>\n",
       "      <th>state code</th>\n",
       "      <th>region</th>\n",
       "      <th>division</th>\n",
       "    </tr>\n",
       "  </thead>\n",
       "  <tbody>\n",
       "    <tr>\n",
       "      <th>0</th>\n",
       "      <td>Alaska</td>\n",
       "      <td>AK</td>\n",
       "      <td>West</td>\n",
       "      <td>Pacific</td>\n",
       "    </tr>\n",
       "    <tr>\n",
       "      <th>1</th>\n",
       "      <td>Alabama</td>\n",
       "      <td>AL</td>\n",
       "      <td>South</td>\n",
       "      <td>East South Central</td>\n",
       "    </tr>\n",
       "    <tr>\n",
       "      <th>2</th>\n",
       "      <td>Arkansas</td>\n",
       "      <td>AR</td>\n",
       "      <td>South</td>\n",
       "      <td>West South Central</td>\n",
       "    </tr>\n",
       "    <tr>\n",
       "      <th>3</th>\n",
       "      <td>Arizona</td>\n",
       "      <td>AZ</td>\n",
       "      <td>West</td>\n",
       "      <td>Mountain</td>\n",
       "    </tr>\n",
       "    <tr>\n",
       "      <th>4</th>\n",
       "      <td>California</td>\n",
       "      <td>CA</td>\n",
       "      <td>West</td>\n",
       "      <td>Pacific</td>\n",
       "    </tr>\n",
       "  </tbody>\n",
       "</table>\n",
       "</div>"
      ],
      "text/plain": [
       "        state state code region            division\n",
       "0      Alaska         AK   West             Pacific\n",
       "1     Alabama         AL  South  East South Central\n",
       "2    Arkansas         AR  South  West South Central\n",
       "3     Arizona         AZ   West            Mountain\n",
       "4  California         CA   West             Pacific"
      ]
     },
     "execution_count": 20,
     "metadata": {},
     "output_type": "execute_result"
    }
   ],
   "source": [
    "us_states_file_path = './data/states.csv'\n",
    "us_states = pd.read_csv(us_states_file_path, dtype={'State': 'category', 'State Code': 'category', \n",
    "                                                     'Region': 'category', 'Division': 'category'})\n",
    "us_states.rename(columns=lambda x: x.lower(), inplace=True)\n",
    "us_states.head()"
   ]
  },
  {
   "cell_type": "code",
   "execution_count": null,
   "id": "8a362acc",
   "metadata": {
    "pycharm": {
     "name": "#%%\n"
    }
   },
   "outputs": [],
   "source": [
    "us_states['state code'].unique().size"
   ]
  },
  {
   "cell_type": "code",
   "execution_count": null,
   "id": "613474ea",
   "metadata": {
    "pycharm": {
     "name": "#%%\n"
    }
   },
   "outputs": [],
   "source": [
    "us_states['region'].unique()"
   ]
  },
  {
   "cell_type": "code",
   "execution_count": null,
   "id": "b625c0be",
   "metadata": {
    "pycharm": {
     "name": "#%%\n"
    }
   },
   "outputs": [],
   "source": [
    "df['state'] = df['location'].str.strip().str[-2:]\n",
    "df['city'] = df['location'].str.strip().str[:-4]\n",
    "\n",
    "# This seemed repetitive so we commented it out\n",
    "# Filter the dataset to include only job postings with a valid US state code\n",
    "# df = df[df['state'].isin(us_states['state code'])]\n",
    "\n",
    "# Now data['states'].unique() should only contain valid US state codes\n",
    "df['state'].unique()\n",
    "\n",
    "df"
   ]
  },
  {
   "cell_type": "code",
   "execution_count": null,
   "id": "990693dc",
   "metadata": {
    "pycharm": {
     "name": "#%%\n"
    }
   },
   "outputs": [],
   "source": [
    "# Extracting the 'city' and 'state' as 2 seperate columns from 'location' column\n",
    "df = df.merge(us_states, left_on='state', right_on='state code', validate='m:1', suffixes=['_d', '_s'])\n",
    "df.drop(['state code', 'state_s'], axis=1, inplace=True)\n",
    "col_name = list(df.columns)\n",
    "col_name[col_name.index('state_d')] = 'state'\n",
    "df.columns = col_name"
   ]
  },
  {
   "cell_type": "code",
   "execution_count": null,
   "id": "a60009da",
   "metadata": {
    "pycharm": {
     "name": "#%%\n"
    },
    "scrolled": false
   },
   "outputs": [],
   "source": [
    "df.head()"
   ]
  },
  {
   "cell_type": "code",
   "execution_count": null,
   "id": "2b24a832",
   "metadata": {
    "pycharm": {
     "name": "#%%\n"
    }
   },
   "outputs": [],
   "source": [
    "df = df.astype({'state': 'category', 'currency': 'category'})\n",
    "df.info()"
   ]
  },
  {
   "cell_type": "code",
   "execution_count": null,
   "id": "22ccb1df",
   "metadata": {
    "pycharm": {
     "name": "#%%\n"
    }
   },
   "outputs": [],
   "source": [
    "# checking for exceptions\n",
    "df.currency.unique()"
   ]
  },
  {
   "cell_type": "code",
   "execution_count": null,
   "id": "7d785dc7",
   "metadata": {
    "pycharm": {
     "name": "#%%\n"
    }
   },
   "outputs": [],
   "source": [
    "#checking for null values\n",
    "df[['longitude', 'latitude', 'location']].isna().any().sum()"
   ]
  },
  {
   "cell_type": "markdown",
   "id": "264314fa",
   "metadata": {
    "pycharm": {
     "name": "#%% md\n"
    }
   },
   "source": [
    "# Cleaning salary column"
   ]
  },
  {
   "cell_type": "code",
   "execution_count": null,
   "id": "dcf1a96a",
   "metadata": {
    "pycharm": {
     "name": "#%%\n"
    }
   },
   "outputs": [],
   "source": [
    "df['salary'] = df.salary.apply(lambda x: x.lower() if pd.notna(x) else np.nan)"
   ]
  },
  {
   "cell_type": "code",
   "execution_count": null,
   "id": "27523380",
   "metadata": {
    "pycharm": {
     "name": "#%%\n"
    }
   },
   "outputs": [],
   "source": [
    "df['salary'].replace('no salary listed', np.nan, inplace=True)"
   ]
  },
  {
   "cell_type": "code",
   "execution_count": null,
   "id": "34e850b9",
   "metadata": {
    "pycharm": {
     "name": "#%%\n"
    }
   },
   "outputs": [],
   "source": [
    "df = df.astype({'salary': 'string'})"
   ]
  },
  {
   "cell_type": "code",
   "execution_count": null,
   "id": "82dda8ad",
   "metadata": {
    "pycharm": {
     "name": "#%%\n"
    }
   },
   "outputs": [],
   "source": [
    "df.loc[df.salary.isna(), 'salary']"
   ]
  },
  {
   "cell_type": "code",
   "execution_count": null,
   "id": "af16a769",
   "metadata": {
    "pycharm": {
     "name": "#%%\n"
    }
   },
   "outputs": [],
   "source": [
    "# Calling function from cleaning.py\n",
    "detect_number('45')"
   ]
  },
  {
   "cell_type": "code",
   "execution_count": null,
   "id": "52af3c7d",
   "metadata": {
    "pycharm": {
     "name": "#%%\n"
    }
   },
   "outputs": [],
   "source": [
    "df.info()"
   ]
  },
  {
   "cell_type": "code",
   "execution_count": null,
   "id": "4aa6d43d",
   "metadata": {
    "pycharm": {
     "name": "#%%\n"
    }
   },
   "outputs": [],
   "source": [
    "salary_with_numbers = df['salary'].apply(lambda x: True if (pd.notna(x) and detect_number(x)) else False)\n",
    "salary_with_numbers"
   ]
  },
  {
   "cell_type": "code",
   "execution_count": null,
   "id": "7a2df5a0",
   "metadata": {
    "pycharm": {
     "name": "#%%\n"
    }
   },
   "outputs": [],
   "source": [
    "df.loc[~salary_with_numbers, 'salary'].unique()"
   ]
  },
  {
   "cell_type": "code",
   "execution_count": null,
   "id": "a3160b2c",
   "metadata": {
    "pycharm": {
     "name": "#%%\n"
    }
   },
   "outputs": [],
   "source": [
    "# Calling function from cleaning.py\n",
    "find_salary('100,00,00,.453k')"
   ]
  },
  {
   "cell_type": "code",
   "execution_count": null,
   "id": "d8109e1d",
   "metadata": {
    "pycharm": {
     "name": "#%%\n"
    }
   },
   "outputs": [],
   "source": [
    "# Calling function from cleaning.py\n",
    "salaries_and_frequency = df.loc[salary_with_numbers, 'salary'].apply(lambda x: det_salary_range_and_frequency(x))"
   ]
  },
  {
   "cell_type": "code",
   "execution_count": null,
   "id": "111b8fd3",
   "metadata": {
    "pycharm": {
     "name": "#%%\n"
    }
   },
   "outputs": [],
   "source": [
    "sal_df = pd.DataFrame(salaries_and_frequency.to_dict()).transpose()\n",
    "sal_df"
   ]
  },
  {
   "cell_type": "code",
   "execution_count": null,
   "id": "4112be60",
   "metadata": {
    "pycharm": {
     "name": "#%%\n"
    }
   },
   "outputs": [],
   "source": [
    "df.loc[salary_with_numbers, ['min_salary', 'max_salary', 'frequency']] = sal_df"
   ]
  },
  {
   "cell_type": "code",
   "execution_count": null,
   "id": "c165c161",
   "metadata": {
    "pycharm": {
     "name": "#%%\n"
    }
   },
   "outputs": [],
   "source": [
    "df.head()"
   ]
  },
  {
   "cell_type": "code",
   "execution_count": null,
   "id": "14b3b48e",
   "metadata": {
    "pycharm": {
     "name": "#%%\n"
    }
   },
   "outputs": [],
   "source": [
    "df.loc[df[['min_salary', 'max_salary', 'frequency']].notna().any(axis=1), ['min_salary', 'max_salary', 'frequency']]"
   ]
  },
  {
   "cell_type": "code",
   "execution_count": null,
   "id": "babb584f",
   "metadata": {
    "pycharm": {
     "name": "#%%\n"
    }
   },
   "outputs": [],
   "source": [
    "# defining the datatypes\n",
    "df = df.astype({'min_salary': 'float64', 'max_salary': 'float64', 'frequency': 'category'})"
   ]
  },
  {
   "cell_type": "code",
   "execution_count": null,
   "id": "15ac9af0",
   "metadata": {
    "pycharm": {
     "name": "#%%\n"
    }
   },
   "outputs": [],
   "source": [
    "df.head()"
   ]
  },
  {
   "cell_type": "code",
   "execution_count": null,
   "id": "aaad426d",
   "metadata": {
    "pycharm": {
     "name": "#%%\n"
    }
   },
   "outputs": [],
   "source": [
    "# Calling functions from cleaning.py\n",
    "df['min_annual_comp'] = df.apply(lambda row: calc_min_comp(row), axis=1)\n",
    "df['max_annual_comp'] = df.apply(lambda row: calc_max_comp(row), axis=1)\n",
    "df.head()"
   ]
  },
  {
   "cell_type": "code",
   "execution_count": null,
   "id": "f7f58c41",
   "metadata": {
    "pycharm": {
     "name": "#%%\n"
    }
   },
   "outputs": [],
   "source": [
    "# calculating mean\n",
    "df['mean_salary'] = (df['min_annual_comp'] + df['max_annual_comp']) / 2"
   ]
  },
  {
   "cell_type": "code",
   "execution_count": null,
   "id": "9db8e759",
   "metadata": {
    "pycharm": {
     "name": "#%%\n"
    }
   },
   "outputs": [],
   "source": [
    "# Exception cases that were causing errors\n",
    "df_mt = df.loc[df.state=='MT', :]\n",
    "df_mt"
   ]
  },
  {
   "cell_type": "code",
   "execution_count": null,
   "id": "42d6ea17",
   "metadata": {
    "pycharm": {
     "name": "#%%\n"
    }
   },
   "outputs": [],
   "source": [
    "sal_num_mt = df_mt['salary'].apply(lambda x: True if (pd.notna(x) and detect_number(x)) else False)\n",
    "sal_num_mt"
   ]
  },
  {
   "cell_type": "code",
   "execution_count": null,
   "id": "2ed35b09",
   "metadata": {
    "pycharm": {
     "name": "#%%\n"
    }
   },
   "outputs": [],
   "source": [
    "salaries_and_frequency = df_mt.loc[salary_with_numbers, 'salary'].apply(lambda x: det_salary_range_and_frequency(x))\n",
    "salaries_and_frequency"
   ]
  },
  {
   "cell_type": "markdown",
   "id": "f7bc9048",
   "metadata": {
    "pycharm": {
     "name": "#%% md\n"
    }
   },
   "source": [
    "# Cost of living index data import"
   ]
  },
  {
   "cell_type": "code",
   "execution_count": null,
   "id": "ffff91dc",
   "metadata": {
    "pycharm": {
     "name": "#%%\n"
    }
   },
   "outputs": [],
   "source": [
    "cost_of_living_file_path = './data/cost_of_living_index.csv'\n",
    "cost_of_living_dtypes = {'city': 'string', 'state':'string', 'cost_of_living_index': 'float64'}\n",
    "cost_of_living_df = pd.read_csv(cost_of_living_file_path)\n",
    "cost_of_living_df.columns = list(map(lambda x: x.lower().replace(' ', '_'), list(cost_of_living_df.columns)))\n",
    "cost_of_living_df = cost_of_living_df.astype(cost_of_living_dtypes)\n",
    "print(cost_of_living_df.info())\n",
    "cost_of_living_df.head()"
   ]
  },
  {
   "cell_type": "markdown",
   "id": "77ff1d81",
   "metadata": {
    "pycharm": {
     "name": "#%% md\n"
    }
   },
   "source": [
    "# Analysis and Visualizations"
   ]
  },
  {
   "cell_type": "markdown",
   "id": "1558c897",
   "metadata": {},
   "source": [
    "## Job Postings by Region"
   ]
  },
  {
   "cell_type": "code",
   "execution_count": null,
   "id": "d05c6279",
   "metadata": {
    "pycharm": {
     "name": "#%%\n"
    }
   },
   "outputs": [],
   "source": [
    "region_count = df['region'].value_counts()\n",
    "# Plot the bar graph of job postings by region\n",
    "region_count.plot(kind='bar')\n",
    "plt.title('Job Postings by Region')\n",
    "plt.xlabel('Region')\n",
    "plt.ylabel('Number of Job Postings')\n",
    "plt.show()"
   ]
  },
  {
   "cell_type": "markdown",
   "id": "77a1a55d",
   "metadata": {},
   "source": [
    "## Job Skill Matching with User Skills"
   ]
  },
  {
   "cell_type": "code",
   "execution_count": null,
   "id": "019e99ef",
   "metadata": {
    "pycharm": {
     "name": "#%%\n"
    }
   },
   "outputs": [],
   "source": [
    "#testing skill fn\n",
    "user_skills = ['Python', 'SQL', 'Node.js' , 'React.js']\n",
    "\n",
    "# Call the function from analysis.py\n",
    "matched_data = calculate_skill_match(df, user_skills)\n",
    "\n",
    "# sort the DataFrame by the 'skill_match' column in descending order\n",
    "sorted_data = matched_data.sort_values(by='skill_match', ascending=False)\n",
    "\n",
    "# select the top 20 rows from the sorted DataFrame\n",
    "top_matched = sorted_data.head(20)\n",
    "\n",
    "# print the selected columns from the top 20 rows\n",
    "print(top_matched[['title', 'company', 'location', 'skill_match', 'salary']])"
   ]
  },
  {
   "cell_type": "code",
   "execution_count": null,
   "id": "0ebe613d",
   "metadata": {
    "pycharm": {
     "name": "#%%\n"
    },
    "scrolled": true
   },
   "outputs": [],
   "source": [
    "df.head()"
   ]
  },
  {
   "cell_type": "markdown",
   "id": "23628e90",
   "metadata": {},
   "source": [
    "## Show Jobs within a Salary Range"
   ]
  },
  {
   "cell_type": "code",
   "execution_count": null,
   "id": "4b325ab4",
   "metadata": {
    "pycharm": {
     "name": "#%%\n"
    }
   },
   "outputs": [],
   "source": [
    "salary_range = '80000-100000'\n",
    "top_matches = filter_jobs_by_salary_range(df, salary_range).head(10)\n",
    "print(top_matches[['title', 'company', 'location', 'job_type', 'mean_salary']])"
   ]
  },
  {
   "cell_type": "markdown",
   "id": "f41c73d8",
   "metadata": {},
   "source": [
    "## Top skills in the jobs"
   ]
  },
  {
   "cell_type": "code",
   "execution_count": null,
   "id": "b4112fef",
   "metadata": {
    "pycharm": {
     "name": "#%%\n"
    }
   },
   "outputs": [],
   "source": [
    "# call function from analysis.py\n",
    "top_skills = top_skills(df, n=15)\n",
    "\n",
    "# Print the top skills\n",
    "print(top_skills)"
   ]
  },
  {
   "cell_type": "code",
   "execution_count": null,
   "id": "527e8523",
   "metadata": {
    "pycharm": {
     "name": "#%%\n"
    }
   },
   "outputs": [],
   "source": [
    "top_skills.plot(kind='bar')\n",
    "plt.title('Top Skills')\n",
    "plt.xlabel('Skills')\n",
    "plt.ylabel('Demand')\n",
    "plt.show()"
   ]
  },
  {
   "cell_type": "markdown",
   "id": "b46e5c2f",
   "metadata": {},
   "source": [
    "## Most popular job title by State"
   ]
  },
  {
   "cell_type": "code",
   "execution_count": null,
   "id": "5d33cf1e",
   "metadata": {
    "pycharm": {
     "name": "#%%\n"
    }
   },
   "outputs": [],
   "source": [
    "most_popular_jobs_by_state = jobs_by_state(df)\n",
    "most_popular_jobs_by_state = most_popular_jobs_by_state[most_popular_jobs_by_state['counts'] > 0]\n",
    "most_popular_jobs_by_state = most_popular_jobs_by_state.sort_values(by='counts', ascending=False)\n",
    "print(most_popular_jobs_by_state)\n",
    "\n",
    "# Create the plot\n",
    "plt.figure(figsize=(18, 8))\n",
    "sns.barplot(x='counts', y='state', hue='title', data=most_popular_jobs_by_state)\n",
    "plt.title('Most Popular Job Titles by State')\n",
    "plt.xlabel('Number of Job Postings')\n",
    "plt.ylabel('State')\n",
    "plt.show()"
   ]
  },
  {
   "cell_type": "code",
   "execution_count": null,
   "id": "9ff8fd75",
   "metadata": {
    "scrolled": true
   },
   "outputs": [],
   "source": [
    "# commented out because its a very heavy function which slows down the whole notebook. Attached screencshot of working in readme.\n",
    "map = create_job_map(df)\n",
    "map"
   ]
  },
  {
   "cell_type": "markdown",
   "id": "9569d848",
   "metadata": {},
   "source": [
    "## Mean Salary Distribution by Job Role"
   ]
  },
  {
   "cell_type": "code",
   "execution_count": null,
   "id": "11da771d",
   "metadata": {
    "pycharm": {
     "name": "#%%\n"
    }
   },
   "outputs": [],
   "source": [
    "# calling function from analysis.py\n",
    "plot_salary_distribution(df, \"software\")"
   ]
  },
  {
   "cell_type": "markdown",
   "id": "ea7f4d94",
   "metadata": {},
   "source": [
    "## Cost of Living Analysis"
   ]
  },
  {
   "cell_type": "code",
   "execution_count": null,
   "id": "01ddcc8f",
   "metadata": {},
   "outputs": [],
   "source": [
    "cost_of_living_state_df = cost_of_living_df.groupby('state').agg(func='mean').reset_index()\n",
    "cost_of_living_state_df.head()"
   ]
  },
  {
   "cell_type": "code",
   "execution_count": null,
   "id": "f422a4db",
   "metadata": {
    "pycharm": {
     "name": "#%%\n"
    }
   },
   "outputs": [],
   "source": [
    "states = ['Alabama', 'Alaska', 'Arizona', 'Arkansas', 'California', 'Colorado', 'Connecticut', 'Delaware', 'Florida', 'Georgia', 'Hawaii', 'Idaho', 'Illinois', 'Indiana', 'Iowa', 'Kansas', 'Kentucky', 'Louisiana', 'Maine', 'Maryland', 'Massachusetts', 'Michigan', 'Minnesota', 'Mississippi', 'Missouri', 'Montana', 'Nebraska', 'Nevada', 'New Hampshire', 'New Jersey', 'New Mexico', 'New York', 'North Carolina', 'North Dakota', 'Ohio', 'Oklahoma', 'Oregon', 'Pennsylvania', 'Rhode Island', 'South Carolina', 'South Dakota', 'Tennessee', 'Texas', 'Utah', 'Vermont', 'Virginia', 'Washington', 'West Virginia', 'Wisconsin', 'Wyoming']\n",
    "\n",
    "cost_of_living = [88.4, 131.3, 97.3, 86.9, 144.7, 109.3, 128.5, 112.8, 100.5, 92.5, 192.9, 92.4, 96.7, 91.8, 89.6, 89.4, 91.8, 93.9, 96.6, 120.7, 138.4, 97.4, 101.9, 85.6, 91.3, 92.7, 91.8, 96.6, 120.7, 138.4, 91.2, 102.9, 93.4, 93.4, 94.4, 96.6, 110.1, 87.9, 87.7, 94.2, 90.4, 94.1, 90.3, 96.6, 110.7, 100.5, 95.9, 88.1, 95.8, 97.5]\n",
    "plt.figure(figsize=(20, 8))\n",
    "plt.bar(states, cost_of_living, color='blue')\n",
    "plt.xticks(rotation=90)\n",
    "plt.xlabel('State')\n",
    "plt.ylabel('Cost of Living Index')\n",
    "plt.title('Cost of Living by State in USA')\n",
    "plt.show()"
   ]
  },
  {
   "cell_type": "code",
   "execution_count": null,
   "id": "5e30dbcc",
   "metadata": {},
   "outputs": [],
   "source": [
    "# calling function from analysis.py\n",
    "adjusted_sal_df = calculate_adjusted_salary(df, cost_of_living_df, cost_of_living_state_df)\n",
    "print(adjusted_sal_df.info())\n",
    "adjusted_sal_df.head()"
   ]
  }
 ],
 "metadata": {
  "kernelspec": {
   "display_name": "Python 3 (ipykernel)",
   "language": "python",
   "name": "python3"
  },
  "language_info": {
   "codemirror_mode": {
    "name": "ipython",
    "version": 3
   },
   "file_extension": ".py",
   "mimetype": "text/x-python",
   "name": "python",
   "nbconvert_exporter": "python",
   "pygments_lexer": "ipython3",
   "version": "3.9.12"
  }
 },
 "nbformat": 4,
 "nbformat_minor": 5
}
